{
 "cells": [
  {
   "cell_type": "code",
   "execution_count": 1,
   "metadata": {},
   "outputs": [],
   "source": [
    "import os\n",
    "from Loader import *"
   ]
  },
  {
   "cell_type": "code",
   "execution_count": 4,
   "metadata": {},
   "outputs": [],
   "source": [
    "data_path=r'C:\\Users\\2chan\\Desktop\\data science project\\twitch-highlight-predictor\\data'\n",
    "file_list=os.listdir(data_path)"
   ]
  },
  {
   "cell_type": "code",
   "execution_count": null,
   "metadata": {},
   "outputs": [],
   "source": [
    "def find(text=None, usr=None):\n",
    "    if(text != None and usr==None):\n",
    "        for file in file_list:\n",
    "            f=open(data_path+'//'+file, 'r', encoding='UTF8')\n",
    "            for line in f:\n",
    "                if(line.find(text)!=-1):\n",
    "                    s=line.split(\" \",2)\n",
    "                    print(file[:-4], s[0][1:-1], s[1], s[2])\n",
    "            f.close()\n",
    "    elif(text==None and usr!=None):\n",
    "        for file in file_list:\n",
    "            f=open(data_path+'//'+file, 'r', encoding='UTF8')\n",
    "            for line in f:\n",
    "                if(line.find(usr)!=-1):\n",
    "                    s=line.split(\" \",2)\n",
    "                    print(file[:-4], s[0], s[1][1:-1], s[2])\n",
    "            f.close()\n",
    "    elif(text != None and usr!= None):\n",
    "        for file in file_list:\n",
    "            f=open(data_path+'//'+file, 'r', encoding='UTF8')\n",
    "            for line in f:\n",
    "                if(line.find(text)!=-1 and line.find(usr)!=-1):\n",
    "                    s=line.split(\" \",2)\n",
    "                    print(file[:-4], s[0], s[1][1:-1], s[2])\n",
    "            f.close()\n",
    "    else:\n",
    "        print(\"something went wrong\")"
   ]
  },
  {
   "cell_type": "code",
   "execution_count": null,
   "metadata": {},
   "outputs": [],
   "source": [
    "total=0\n",
    "for file in file_list:\n",
    "    f=open(data_path+'//'+file, 'r', encoding='UTF8')\n",
    "    for line in f:\n",
    "        total+=1\n",
    "print(total)"
   ]
  },
  {
   "cell_type": "code",
   "execution_count": 88,
   "metadata": {},
   "outputs": [
    {
     "name": "stdout",
     "output_type": "stream",
     "text": [
      "431933575 1:09:07 <파높파노> 나 다시 돌아갈뢔애애애애애애애!!\n",
      "\n"
     ]
    }
   ],
   "source": [
    "find(text='나 다시 돌아갈뢔애애')"
   ]
  },
  {
   "cell_type": "code",
   "execution_count": null,
   "metadata": {},
   "outputs": [],
   "source": []
  }
 ],
 "metadata": {
  "kernelspec": {
   "display_name": "Python 3",
   "language": "python",
   "name": "python3"
  },
  "language_info": {
   "codemirror_mode": {
    "name": "ipython",
    "version": 3
   },
   "file_extension": ".py",
   "mimetype": "text/x-python",
   "name": "python",
   "nbconvert_exporter": "python",
   "pygments_lexer": "ipython3",
   "version": "3.7.1"
  }
 },
 "nbformat": 4,
 "nbformat_minor": 2
}
